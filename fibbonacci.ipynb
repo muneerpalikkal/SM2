{
  "nbformat": 4,
  "nbformat_minor": 0,
  "metadata": {
    "colab": {
      "name": "fibbonacci.ipynb",
      "version": "0.3.2",
      "provenance": [],
      "include_colab_link": true
    },
    "kernelspec": {
      "name": "python3",
      "display_name": "Python 3"
    }
  },
  "cells": [
    {
      "cell_type": "markdown",
      "metadata": {
        "id": "view-in-github",
        "colab_type": "text"
      },
      "source": [
        "<a href=\"https://colab.research.google.com/github/muneerpalikkal/SM2/blob/master/fibbonacci.ipynb\" target=\"_parent\"><img src=\"https://colab.research.google.com/assets/colab-badge.svg\" alt=\"Open In Colab\"/></a>"
      ]
    },
    {
      "cell_type": "code",
      "metadata": {
        "id": "DqqjLCFqU6MU",
        "colab_type": "code",
        "colab": {
          "base_uri": "https://localhost:8080/",
          "height": 34
        },
        "outputId": "86a8736c-8993-4717-ca04-ef8d8ea8dd28"
      },
      "source": [
        "# function of nth fibbonacci number\n",
        "\n",
        "def fibbonacci(n):\n",
        "    if n<0:\n",
        "        print(\"incorrect input\")\n",
        "    # first fibbonacci number is 0\n",
        "    elif n==1:\n",
        "        return 0\n",
        "    # second fibbonacci number is 1\n",
        "    elif n==2:\n",
        "        return 1\n",
        "    else:\n",
        "        return fibbonacci(n-1)+fibbonacci(n-2)\n",
        "# driver program\n",
        "\n",
        "print (fibbonacci(40))\n",
        "                 \n",
        "                                            "
      ],
      "execution_count": 2,
      "outputs": [
        {
          "output_type": "stream",
          "text": [
            "63245986\n"
          ],
          "name": "stdout"
        }
      ]
    }
  ]
}