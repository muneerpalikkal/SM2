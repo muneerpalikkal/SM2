{
  "nbformat": 4,
  "nbformat_minor": 0,
  "metadata": {
    "colab": {
      "name": "prime.ipynb",
      "version": "0.3.2",
      "provenance": [],
      "include_colab_link": true
    },
    "kernelspec": {
      "name": "python3",
      "display_name": "Python 3"
    }
  },
  "cells": [
    {
      "cell_type": "markdown",
      "metadata": {
        "id": "view-in-github",
        "colab_type": "text"
      },
      "source": [
        "<a href=\"https://colab.research.google.com/github/muneerpalikkal/SM2/blob/master/prime.ipynb\" target=\"_parent\"><img src=\"https://colab.research.google.com/assets/colab-badge.svg\" alt=\"Open In Colab\"/></a>"
      ]
    },
    {
      "cell_type": "code",
      "metadata": {
        "id": "HBWqm8XqGndo",
        "colab_type": "code",
        "colab": {
          "base_uri": "https://localhost:8080/",
          "height": 51
        },
        "outputId": "805607f6-3d1c-4997-97ab-8d43fae25f83"
      },
      "source": [
        "def check_prime(n):\n",
        "  i=1\n",
        "  j=0\n",
        "  \n",
        "  while(i<=n):\n",
        "    if n%i==0:\n",
        "       j+=1\n",
        "    i+=1\n",
        "    \n",
        "  if j==2:\n",
        "      print(\"number is prime\")\n",
        "  else:\n",
        "      print(\"number is not prime\")\n",
        "      \n",
        "      \n",
        "val=int(input(\"input a number\")) \n",
        "check_prime(val)"
      ],
      "execution_count": 1,
      "outputs": [
        {
          "output_type": "stream",
          "text": [
            "input a number3\n",
            "number is prime\n"
          ],
          "name": "stdout"
        }
      ]
    }
  ]
}