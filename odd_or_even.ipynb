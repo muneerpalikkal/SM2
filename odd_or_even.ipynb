{
  "nbformat": 4,
  "nbformat_minor": 0,
  "metadata": {
    "colab": {
      "name": "odd or even.ipynb",
      "version": "0.3.2",
      "provenance": [],
      "include_colab_link": true
    },
    "kernelspec": {
      "name": "python3",
      "display_name": "Python 3"
    }
  },
  "cells": [
    {
      "cell_type": "markdown",
      "metadata": {
        "id": "view-in-github",
        "colab_type": "text"
      },
      "source": [
        "<a href=\"https://colab.research.google.com/github/muneerpalikkal/SM2/blob/master/odd_or_even.ipynb\" target=\"_parent\"><img src=\"https://colab.research.google.com/assets/colab-badge.svg\" alt=\"Open In Colab\"/></a>"
      ]
    },
    {
      "cell_type": "code",
      "metadata": {
        "id": "rdv9lIBS-kZX",
        "colab_type": "code",
        "colab": {
          "base_uri": "https://localhost:8080/",
          "height": 51
        },
        "outputId": "c2ec0faa-a7f9-4b2c-fd74-73da6e0a803d"
      },
      "source": [
        "def check_num(x):\n",
        "  if x%2==0:\n",
        "    print(\"number is even \")\n",
        "  else:\n",
        "    print(\"number is odd\")\n",
        "    \n",
        "val=int(input(\"input a number\"))\n",
        "check_num(val)"
      ],
      "execution_count": 2,
      "outputs": [
        {
          "output_type": "stream",
          "text": [
            "input a number2\n",
            "number is even \n"
          ],
          "name": "stdout"
        }
      ]
    }
  ]
}